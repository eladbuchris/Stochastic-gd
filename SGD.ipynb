{
 "cells": [
  {
   "cell_type": "code",
   "execution_count": 1,
   "metadata": {},
   "outputs": [],
   "source": [
    "import numpy as np\n",
    "import pandas as pd\n",
    "import matplotlib.pyplot as plt"
   ]
  },
  {
   "cell_type": "markdown",
   "metadata": {},
   "source": [
    "Section d"
   ]
  },
  {
   "cell_type": "code",
   "execution_count": 17,
   "metadata": {},
   "outputs": [],
   "source": [
    "def svm_with_sgd(X,y,lam = 0,epochs = 1000, I_rate = 0.01):\n",
    "    '''This function recieves the following\n",
    "    X - train matrix (np.ndarray)\n",
    "    y - train target vector (np.1d array)\n",
    "    lam - regularization rate\n",
    "    epochs - the amount of iterations to run\n",
    "    I_rate - the learning rate\n",
    "    \n",
    "    Then, it run an sgd algorithm with the given parameters and returns the w vector which\n",
    "    represents the chosen hyper plane, and a b which represent its interceps\n",
    "    '''\n",
    "    np.random.seed(2)\n",
    "    m = X.shape[0]\n",
    "    d = X.shape[1]\n",
    "    arary_of_indices = np.arange(0,m,1)\n",
    "    w = np.random.uniform(size = d)\n",
    "    b = np.random.uniform(size = 1)\n",
    "    for i in range(epochs):\n",
    "        point_index = np.random.permutation(m)\n",
    "        for j in point_index:\n",
    "            if((1-y[j]*(np.dot(w,X[j,:]) + b))>0):\n",
    "                sub_gradient_w = 2*lam*w-y[j]*X[j]\n",
    "                sub_gradient_b = -y[j]\n",
    "                w = w - I_rate * sub_gradient_w\n",
    "                b = b - I_rate * sub_gradient_b\n",
    "            else:\n",
    "                sub_gradient_w = 2*lam*w\n",
    "                sub_gradient_b = 0     \n",
    "                w = w - I_rate * sub_gradient_w\n",
    "                b = b - I_rate * sub_gradient_b\n",
    "    return w,b            \n",
    "        "
   ]
  },
  {
   "cell_type": "markdown",
   "metadata": {},
   "source": [
    "Section e"
   ]
  },
  {
   "cell_type": "code",
   "execution_count": 21,
   "metadata": {},
   "outputs": [],
   "source": [
    "def calculate_error(w,b,X,y):\n",
    "    '''\n",
    "    This function recieves hyper plane vector w, intercept b, data matrix and data points target vector\n",
    "    It then calculates the prediction for each point using the sgd algorithm and then calculates the error \n",
    "    according to the real target values and returs in.\n",
    "    '''\n",
    "    prediction_vec = np.zeros(X.shape[0])\n",
    "    prediction_vec = np.sign(np.dot(X,w)+b)\n",
    "    error = 0\n",
    "    for i in range(X.shape[0]):\n",
    "        if(prediction_vec[i]!=y[i]):\n",
    "            error = error + 1\n",
    "    error_rate = error/X.shape[0]\n",
    "    return error_rate                           "
   ]
  },
  {
   "cell_type": "markdown",
   "metadata": {},
   "source": [
    "Section f"
   ]
  },
  {
   "cell_type": "code",
   "execution_count": 22,
   "metadata": {},
   "outputs": [],
   "source": [
    "# Here we are loading the needed data\n",
    "from sklearn.datasets import load_iris\n",
    "X, y = load_iris(return_X_y=True)\n",
    "X = X[y != 0]\n",
    "y = y[y != 0]\n",
    "y[y==2] = -1\n",
    "X = X[:, 2:4]\n",
    "#Splitting the data into train and validation sets\n",
    "from sklearn.model_selection import train_test_split\n",
    "X_train, X_val, y_train, y_val = train_test_split(X, y, test_size=0.3, random_state=0)\n"
   ]
  },
  {
   "cell_type": "code",
   "execution_count": 23,
   "metadata": {},
   "outputs": [],
   "source": [
    "#In this section, we are running the algorithm from the last two sections on different valus of lambda.\n",
    "lam_list = [0,0.05,0.1,0.2,0.5]\n",
    "train_error = []\n",
    "test_error = []\n",
    "margin_vec = []\n",
    "for lam in lam_list:\n",
    "    w,b = svm_with_sgd(X_train,y_train,lam)\n",
    "    train_error.append(calculate_error(w,b,X_train,y_train))\n",
    "    test_error.append(calculate_error(w,b,X_val,y_val))\n",
    "    margin_vec.append(1/(np.linalg.norm(w)))\n"
   ]
  },
  {
   "cell_type": "code",
   "execution_count": 24,
   "metadata": {},
   "outputs": [
    {
     "data": {
      "text/plain": [
       "Text(0.5, 0.98, 'Train and test errors by lambda')"
      ]
     },
     "execution_count": 24,
     "metadata": {},
     "output_type": "execute_result"
    },
    {
     "data": {
      "image/png": "[encoded data removed]",
      "text/plain": [
       "<Figure size 432x288 with 1 Axes>"
      ]
     },
     "metadata": {
      "needs_background": "light"
     },
     "output_type": "display_data"
    }
   ],
   "source": [
    "#Plotting the prediction error with relation to lambda\n",
    "error_data = pd.DataFrame({\"lambda\":lam_list,\"train error\" : train_error,\"test error\" : test_error})\n",
    "fig, axs = plt.subplots()\n",
    "error_data.plot(kind='bar', x='lambda', y=['train error', 'test error'],ax=axs)\n",
    "fig.suptitle('Train and test errors by lambda')"
   ]
  },
  {
   "cell_type": "code",
   "execution_count": 25,
   "metadata": {},
   "outputs": [
    {
     "data": {
      "text/plain": [
       "Text(0.5, 0.98, 'One sided margin by lambda')"
      ]
     },
     "execution_count": 25,
     "metadata": {},
     "output_type": "execute_result"
    },
    {
     "data": {
      "image/png": "[encoded data removed]",
      "text/plain": [
       "<Figure size 432x288 with 1 Axes>"
      ]
     },
     "metadata": {
      "needs_background": "light"
     },
     "output_type": "display_data"
    }
   ],
   "source": [
    "#Plotting the margin with relation to lambda\n",
    "margin_data = pd.DataFrame({\"lambda\":lam_list,\"margin\" : margin_vec})\n",
    "fig, axs = plt.subplots()\n",
    "margin_data.plot(kind='bar', x='lambda', y=\"margin\",ax=axs)\n",
    "fig.suptitle('One sided margin by lambda')"
   ]
  },
  {
   "cell_type": "markdown",
   "metadata": {},
   "source": [
    "By the two graphs, we can say that the best model is the one which uses lambda = 0.05.\n",
    "It gets the lowest errors on the test and on the train sets."
   ]
  }
 ],
 "metadata": {
  "kernelspec": {
   "display_name": "Python 3",
   "language": "python",
   "name": "python3"
  },
  "language_info": {
   "codemirror_mode": {
    "name": "ipython",
    "version": 3
   },
   "file_extension": ".py",
   "mimetype": "text/x-python",
   "name": "python",
   "nbconvert_exporter": "python",
   "pygments_lexer": "ipython3",
   "version": "3.8.3"
  }
 },
 "nbformat": 4,
 "nbformat_minor": 4
}
